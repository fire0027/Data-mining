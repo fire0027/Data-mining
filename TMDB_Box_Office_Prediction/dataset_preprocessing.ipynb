{
 "cells": [
  {
   "cell_type": "markdown",
   "id": "d9109d74",
   "metadata": {},
   "source": [
    "# 此文件对数据集进行预处理"
   ]
  },
  {
   "cell_type": "code",
   "execution_count": 31,
   "id": "a01e64e6",
   "metadata": {},
   "outputs": [],
   "source": [
    "import matplotlib.pyplot as plt\n",
    "import statsmodels.api as sm\n",
    "import seaborn as sns\n",
    "import numpy as np\n",
    "import pandas as pd\n",
    "import math\n",
    "from wordcloud import WordCloud\n",
    "from scipy import stats\n",
    "from collections import Counter\n",
    "from math import isnan\n",
    "%matplotlib inline\n",
    "pd.set_option('display.float_format', lambda x:'%.2f'%x)"
   ]
  },
  {
   "cell_type": "markdown",
   "id": "fd9a85d1",
   "metadata": {},
   "source": [
    "## 训练数据预处理"
   ]
  },
  {
   "cell_type": "code",
   "execution_count": 32,
   "id": "8912cf39",
   "metadata": {},
   "outputs": [
    {
     "data": {
      "text/plain": [
       "(2500, 23)"
      ]
     },
     "execution_count": 32,
     "metadata": {},
     "output_type": "execute_result"
    }
   ],
   "source": [
    "#载入训练数据\n",
    "ftrain_data=\"bop_train.csv\"\n",
    "train_data = pd.read_csv(ftrain_data, index_col=False, low_memory=False)\n",
    "train_data.shape"
   ]
  },
  {
   "cell_type": "code",
   "execution_count": 33,
   "id": "e55b94dc",
   "metadata": {},
   "outputs": [
    {
     "data": {
      "text/plain": [
       "(2500, 17)"
      ]
     },
     "execution_count": 33,
     "metadata": {},
     "output_type": "execute_result"
    }
   ],
   "source": [
    "#删除 imdb_id, original_title, overview, poster_path, status, title 等属性\n",
    "train_data.drop(['imdb_id'], axis=1, inplace=True)\n",
    "train_data.drop(['original_title'], axis=1, inplace=True)\n",
    "train_data.drop(['overview'], axis=1, inplace=True)\n",
    "train_data.drop(['poster_path'], axis=1, inplace=True)\n",
    "train_data.drop(['status'], axis=1, inplace=True)\n",
    "train_data.drop(['title'], axis=1, inplace=True)\n",
    "train_data.shape"
   ]
  },
  {
   "cell_type": "code",
   "execution_count": 34,
   "id": "9c202224",
   "metadata": {},
   "outputs": [
    {
     "data": {
      "text/plain": [
       "(2500, 17)"
      ]
     },
     "execution_count": 34,
     "metadata": {},
     "output_type": "execute_result"
    }
   ],
   "source": [
    "#转化为“有/无”（1/0）属性后删除原属性（4 种）\n",
    "#belongs_to_collection, homepage, original_language, tagline\n",
    "\n",
    "#构建二值属性\n",
    "train_data['collection'] = 0\n",
    "train_data.loc[train_data['belongs_to_collection'].isnull() == False, 'collection'] = 1\n",
    "train_data['has_homepage'] = 0\n",
    "train_data.loc[train_data['homepage'].isnull() == False, 'has_homepage'] = 1\n",
    "train_data['is_en'] = 0\n",
    "train_data.loc[train_data['original_language'] == 'en', 'is_en'] = 1\n",
    "train_data['has_tagline'] = 0\n",
    "train_data.loc[train_data['tagline'].isnull() == False, 'has_tagline'] = 1\n",
    "\n",
    "#删除原有属性\n",
    "train_data.drop(['belongs_to_collection'], axis=1, inplace=True)\n",
    "train_data.drop(['homepage'], axis=1, inplace=True)\n",
    "train_data.drop(['original_language'], axis=1, inplace=True)\n",
    "train_data.drop(['tagline'], axis=1, inplace=True)\n",
    "train_data.shape"
   ]
  },
  {
   "cell_type": "code",
   "execution_count": 35,
   "id": "1d862fb2",
   "metadata": {},
   "outputs": [
    {
     "data": {
      "text/plain": [
       "(2500, 17)"
      ]
     },
     "execution_count": 35,
     "metadata": {},
     "output_type": "execute_result"
    }
   ],
   "source": [
    "#转化为计数属性并删除原属性（6 种）\n",
    "#production_companies, production_countries, spoken_languages, Keywords, cast, crew\n",
    "\n",
    "#转化为计数属性\n",
    "def change_to_count_attri(data, attri):\n",
    "    count=[]\n",
    "    for i in data[attri]:\n",
    "        if(not(pd.isnull(i))):\n",
    "            count.append(len(eval(i)))\n",
    "\n",
    "        else:\n",
    "            count.append(0)\n",
    "    attri1 = \"num_\" + attri\n",
    "    data[attri1] = count\n",
    "    data.drop([attri], axis=1, inplace=True)\n",
    "    \n",
    "\n",
    "change_to_count_attri(train_data,'production_companies')\n",
    "change_to_count_attri(train_data,'production_countries')\n",
    "change_to_count_attri(train_data,'spoken_languages')\n",
    "change_to_count_attri(train_data,'Keywords')\n",
    "change_to_count_attri(train_data,'cast')\n",
    "change_to_count_attri(train_data,'crew')\n",
    "train_data.shape"
   ]
  },
  {
   "cell_type": "code",
   "execution_count": 36,
   "id": "39c90fb0",
   "metadata": {},
   "outputs": [
    {
     "name": "stderr",
     "output_type": "stream",
     "text": [
      "C:\\Users\\26947\\AppData\\Local\\Temp\\ipykernel_6820\\3888798812.py:15: SettingWithCopyWarning: \n",
      "A value is trying to be set on a copy of a slice from a DataFrame\n",
      "\n",
      "See the caveats in the documentation: https://pandas.pydata.org/pandas-docs/stable/user_guide/indexing.html#returning-a-view-versus-a-copy\n",
      "  train_data['is_popular_genres'][i] += 1\n",
      "C:\\Users\\26947\\AppData\\Local\\Temp\\ipykernel_6820\\3888798812.py:17: SettingWithCopyWarning: \n",
      "A value is trying to be set on a copy of a slice from a DataFrame\n",
      "\n",
      "See the caveats in the documentation: https://pandas.pydata.org/pandas-docs/stable/user_guide/indexing.html#returning-a-view-versus-a-copy\n",
      "  train_data['is_popular_genres'][i] += 1\n",
      "C:\\Users\\26947\\AppData\\Local\\Temp\\ipykernel_6820\\3888798812.py:11: SettingWithCopyWarning: \n",
      "A value is trying to be set on a copy of a slice from a DataFrame\n",
      "\n",
      "See the caveats in the documentation: https://pandas.pydata.org/pandas-docs/stable/user_guide/indexing.html#returning-a-view-versus-a-copy\n",
      "  train_data['is_popular_genres'][i] += 1\n",
      "C:\\Users\\26947\\AppData\\Local\\Temp\\ipykernel_6820\\3888798812.py:9: SettingWithCopyWarning: \n",
      "A value is trying to be set on a copy of a slice from a DataFrame\n",
      "\n",
      "See the caveats in the documentation: https://pandas.pydata.org/pandas-docs/stable/user_guide/indexing.html#returning-a-view-versus-a-copy\n",
      "  train_data['is_popular_genres'][i] += 1\n",
      "C:\\Users\\26947\\AppData\\Local\\Temp\\ipykernel_6820\\3888798812.py:13: SettingWithCopyWarning: \n",
      "A value is trying to be set on a copy of a slice from a DataFrame\n",
      "\n",
      "See the caveats in the documentation: https://pandas.pydata.org/pandas-docs/stable/user_guide/indexing.html#returning-a-view-versus-a-copy\n",
      "  train_data['is_popular_genres'][i] += 1\n"
     ]
    },
    {
     "data": {
      "text/plain": [
       "(2500, 17)"
      ]
     },
     "execution_count": 36,
     "metadata": {},
     "output_type": "execute_result"
    }
   ],
   "source": [
    "#genres 转化为计数属性并删除原属性\n",
    "#选取Adventure，Animation，Fantasy，Family，Action 和 Science_Fiction作为流行类型\n",
    "\n",
    "train_data['is_popular_genres'] = 0\n",
    "for i in range(len(train_data)):\n",
    "    if train_data['genres'][i] == train_data['genres'][i]:\n",
    "        for genre in eval(train_data['genres'][i]):\n",
    "            if genre['name'] == \"Adventure\":\n",
    "                train_data['is_popular_genres'][i] += 1\n",
    "            elif genre['name'] == \"Animation\":\n",
    "                train_data['is_popular_genres'][i] += 1\n",
    "            elif genre['name'] == \"Fantasy\":\n",
    "                train_data['is_popular_genres'][i] += 1\n",
    "            elif genre['name'] == \"Family\":\n",
    "                train_data['is_popular_genres'][i] += 1\n",
    "            elif genre['name'] == \"Action\":\n",
    "                train_data['is_popular_genres'][i] += 1\n",
    "            elif genre['name'] == \"Science_Fiction\":\n",
    "                train_data['is_popular_genres'][i] += 1\n",
    "            else:\n",
    "                continue\n",
    "\n",
    "\n",
    "train_data.drop(['genres'], axis=1, inplace=True)\n",
    "train_data.shape"
   ]
  },
  {
   "cell_type": "code",
   "execution_count": 37,
   "id": "5360cc12",
   "metadata": {},
   "outputs": [
    {
     "name": "stdout",
     "output_type": "stream",
     "text": [
      "107.94115292233786\n"
     ]
    },
    {
     "data": {
      "text/plain": [
       "(2500, 17)"
      ]
     },
     "execution_count": 37,
     "metadata": {},
     "output_type": "execute_result"
    }
   ],
   "source": [
    "#均值填充 runtime 缺失值和零值\n",
    "mean = train_data['runtime'].mean()\n",
    "print(mean)\n",
    "train_data['runtime'] = train_data['runtime'].fillna(mean)\n",
    "train_data['runtime'] = train_data['runtime'].replace(0, mean)\n",
    "train_data.shape"
   ]
  },
  {
   "cell_type": "code",
   "execution_count": 38,
   "id": "d2f3b486",
   "metadata": {},
   "outputs": [
    {
     "data": {
      "text/plain": [
       "(2500, 19)"
      ]
     },
     "execution_count": 38,
     "metadata": {},
     "output_type": "execute_result"
    }
   ],
   "source": [
    "#release_date 分为年、月、日（星期）三个属性\n",
    "\n",
    "train_data['release_date'] = pd.to_datetime(train_data['release_date'], format='%m/%d/%y')\n",
    "train_data[\"release_year\"] = pd.to_datetime(train_data[\"release_date\"]).dt.year.astype(int)\n",
    "train_data[\"release_day\"] = pd.to_datetime(train_data[\"release_date\"]).dt.dayofweek.astype(int)\n",
    "train_data[\"release_month\"] = pd.to_datetime(train_data[\"release_date\"]).dt.month.astype(int)\n",
    "train_data.drop(['release_date'], axis=1, inplace=True)\n",
    "train_data.shape"
   ]
  },
  {
   "cell_type": "code",
   "execution_count": 39,
   "id": "9612053b",
   "metadata": {},
   "outputs": [
    {
     "data": {
      "text/html": [
       "<div>\n",
       "<style scoped>\n",
       "    .dataframe tbody tr th:only-of-type {\n",
       "        vertical-align: middle;\n",
       "    }\n",
       "\n",
       "    .dataframe tbody tr th {\n",
       "        vertical-align: top;\n",
       "    }\n",
       "\n",
       "    .dataframe thead th {\n",
       "        text-align: right;\n",
       "    }\n",
       "</style>\n",
       "<table border=\"1\" class=\"dataframe\">\n",
       "  <thead>\n",
       "    <tr style=\"text-align: right;\">\n",
       "      <th></th>\n",
       "      <th>id</th>\n",
       "      <th>budget</th>\n",
       "      <th>popularity</th>\n",
       "      <th>runtime</th>\n",
       "      <th>revenue</th>\n",
       "      <th>collection</th>\n",
       "      <th>has_homepage</th>\n",
       "      <th>is_en</th>\n",
       "      <th>has_tagline</th>\n",
       "      <th>num_production_companies</th>\n",
       "      <th>num_production_countries</th>\n",
       "      <th>num_spoken_languages</th>\n",
       "      <th>num_Keywords</th>\n",
       "      <th>num_cast</th>\n",
       "      <th>num_crew</th>\n",
       "      <th>is_popular_genres</th>\n",
       "      <th>release_year</th>\n",
       "      <th>release_day</th>\n",
       "      <th>release_month</th>\n",
       "    </tr>\n",
       "  </thead>\n",
       "  <tbody>\n",
       "    <tr>\n",
       "      <th>0</th>\n",
       "      <td>1</td>\n",
       "      <td>14000000</td>\n",
       "      <td>6.58</td>\n",
       "      <td>93.00</td>\n",
       "      <td>12314651</td>\n",
       "      <td>1</td>\n",
       "      <td>0</td>\n",
       "      <td>1</td>\n",
       "      <td>1</td>\n",
       "      <td>3</td>\n",
       "      <td>1</td>\n",
       "      <td>1</td>\n",
       "      <td>4</td>\n",
       "      <td>24</td>\n",
       "      <td>72</td>\n",
       "      <td>0</td>\n",
       "      <td>2015</td>\n",
       "      <td>4</td>\n",
       "      <td>2</td>\n",
       "    </tr>\n",
       "    <tr>\n",
       "      <th>1</th>\n",
       "      <td>2</td>\n",
       "      <td>40000000</td>\n",
       "      <td>8.25</td>\n",
       "      <td>113.00</td>\n",
       "      <td>95149435</td>\n",
       "      <td>1</td>\n",
       "      <td>0</td>\n",
       "      <td>1</td>\n",
       "      <td>1</td>\n",
       "      <td>1</td>\n",
       "      <td>1</td>\n",
       "      <td>1</td>\n",
       "      <td>4</td>\n",
       "      <td>20</td>\n",
       "      <td>9</td>\n",
       "      <td>1</td>\n",
       "      <td>2004</td>\n",
       "      <td>4</td>\n",
       "      <td>8</td>\n",
       "    </tr>\n",
       "    <tr>\n",
       "      <th>2</th>\n",
       "      <td>3</td>\n",
       "      <td>3300000</td>\n",
       "      <td>64.30</td>\n",
       "      <td>105.00</td>\n",
       "      <td>13092000</td>\n",
       "      <td>0</td>\n",
       "      <td>1</td>\n",
       "      <td>1</td>\n",
       "      <td>1</td>\n",
       "      <td>3</td>\n",
       "      <td>1</td>\n",
       "      <td>1</td>\n",
       "      <td>12</td>\n",
       "      <td>51</td>\n",
       "      <td>64</td>\n",
       "      <td>0</td>\n",
       "      <td>2014</td>\n",
       "      <td>4</td>\n",
       "      <td>10</td>\n",
       "    </tr>\n",
       "    <tr>\n",
       "      <th>3</th>\n",
       "      <td>4</td>\n",
       "      <td>1200000</td>\n",
       "      <td>3.17</td>\n",
       "      <td>122.00</td>\n",
       "      <td>16000000</td>\n",
       "      <td>0</td>\n",
       "      <td>1</td>\n",
       "      <td>0</td>\n",
       "      <td>0</td>\n",
       "      <td>0</td>\n",
       "      <td>1</td>\n",
       "      <td>2</td>\n",
       "      <td>7</td>\n",
       "      <td>7</td>\n",
       "      <td>3</td>\n",
       "      <td>0</td>\n",
       "      <td>2012</td>\n",
       "      <td>4</td>\n",
       "      <td>3</td>\n",
       "    </tr>\n",
       "    <tr>\n",
       "      <th>4</th>\n",
       "      <td>5</td>\n",
       "      <td>0</td>\n",
       "      <td>1.15</td>\n",
       "      <td>118.00</td>\n",
       "      <td>3923970</td>\n",
       "      <td>0</td>\n",
       "      <td>0</td>\n",
       "      <td>0</td>\n",
       "      <td>0</td>\n",
       "      <td>0</td>\n",
       "      <td>1</td>\n",
       "      <td>1</td>\n",
       "      <td>0</td>\n",
       "      <td>4</td>\n",
       "      <td>2</td>\n",
       "      <td>1</td>\n",
       "      <td>2009</td>\n",
       "      <td>3</td>\n",
       "      <td>2</td>\n",
       "    </tr>\n",
       "  </tbody>\n",
       "</table>\n",
       "</div>"
      ],
      "text/plain": [
       "   id    budget  popularity  runtime   revenue  collection  has_homepage  \\\n",
       "0   1  14000000        6.58    93.00  12314651           1             0   \n",
       "1   2  40000000        8.25   113.00  95149435           1             0   \n",
       "2   3   3300000       64.30   105.00  13092000           0             1   \n",
       "3   4   1200000        3.17   122.00  16000000           0             1   \n",
       "4   5         0        1.15   118.00   3923970           0             0   \n",
       "\n",
       "   is_en  has_tagline  num_production_companies  num_production_countries  \\\n",
       "0      1            1                         3                         1   \n",
       "1      1            1                         1                         1   \n",
       "2      1            1                         3                         1   \n",
       "3      0            0                         0                         1   \n",
       "4      0            0                         0                         1   \n",
       "\n",
       "   num_spoken_languages  num_Keywords  num_cast  num_crew  is_popular_genres  \\\n",
       "0                     1             4        24        72                  0   \n",
       "1                     1             4        20         9                  1   \n",
       "2                     1            12        51        64                  0   \n",
       "3                     2             7         7         3                  0   \n",
       "4                     1             0         4         2                  1   \n",
       "\n",
       "   release_year  release_day  release_month  \n",
       "0          2015            4              2  \n",
       "1          2004            4              8  \n",
       "2          2014            4             10  \n",
       "3          2012            4              3  \n",
       "4          2009            3              2  "
      ]
     },
     "execution_count": 39,
     "metadata": {},
     "output_type": "execute_result"
    }
   ],
   "source": [
    "train_data.head()"
   ]
  },
  {
   "cell_type": "code",
   "execution_count": 40,
   "id": "67cdf7a1",
   "metadata": {},
   "outputs": [
    {
     "name": "stdout",
     "output_type": "stream",
     "text": [
      "<class 'pandas.core.frame.DataFrame'>\n",
      "RangeIndex: 2500 entries, 0 to 2499\n",
      "Data columns (total 19 columns):\n",
      " #   Column                    Non-Null Count  Dtype  \n",
      "---  ------                    --------------  -----  \n",
      " 0   id                        2500 non-null   int64  \n",
      " 1   budget                    2500 non-null   int64  \n",
      " 2   popularity                2500 non-null   float64\n",
      " 3   runtime                   2500 non-null   float64\n",
      " 4   revenue                   2500 non-null   int64  \n",
      " 5   collection                2500 non-null   int64  \n",
      " 6   has_homepage              2500 non-null   int64  \n",
      " 7   is_en                     2500 non-null   int64  \n",
      " 8   has_tagline               2500 non-null   int64  \n",
      " 9   num_production_companies  2500 non-null   int64  \n",
      " 10  num_production_countries  2500 non-null   int64  \n",
      " 11  num_spoken_languages      2500 non-null   int64  \n",
      " 12  num_Keywords              2500 non-null   int64  \n",
      " 13  num_cast                  2500 non-null   int64  \n",
      " 14  num_crew                  2500 non-null   int64  \n",
      " 15  is_popular_genres         2500 non-null   int64  \n",
      " 16  release_year              2500 non-null   int32  \n",
      " 17  release_day               2500 non-null   int32  \n",
      " 18  release_month             2500 non-null   int32  \n",
      "dtypes: float64(2), int32(3), int64(14)\n",
      "memory usage: 341.9 KB\n"
     ]
    }
   ],
   "source": [
    "train_data.info()"
   ]
  },
  {
   "cell_type": "code",
   "execution_count": 28,
   "id": "31f36402",
   "metadata": {},
   "outputs": [],
   "source": [
    "#保存处理后的数据集\n",
    "#train_data.to_csv(\"bop_train_processed.csv\", index=None)"
   ]
  },
  {
   "cell_type": "code",
   "execution_count": 30,
   "id": "e1731bde",
   "metadata": {},
   "outputs": [],
   "source": [
    "# ftrain_data=\"bop_train_processed.csv\"\n",
    "# train_data = pd.read_csv(ftrain_data, index_col=False, low_memory=False)\n",
    "# train_data.head()"
   ]
  },
  {
   "cell_type": "code",
   "execution_count": null,
   "id": "9bc05010",
   "metadata": {},
   "outputs": [],
   "source": []
  },
  {
   "cell_type": "code",
   "execution_count": 41,
   "id": "1be1e918",
   "metadata": {},
   "outputs": [
    {
     "data": {
      "text/plain": [
       "(500, 23)"
      ]
     },
     "execution_count": 41,
     "metadata": {},
     "output_type": "execute_result"
    }
   ],
   "source": [
    "#载入训练数据\n",
    "ftrain_data=\"bop_test.csv\"\n",
    "train_data = pd.read_csv(ftrain_data, index_col=False, low_memory=False)\n",
    "train_data.shape"
   ]
  },
  {
   "cell_type": "code",
   "execution_count": 42,
   "id": "a1e2e972",
   "metadata": {},
   "outputs": [
    {
     "data": {
      "text/plain": [
       "(500, 17)"
      ]
     },
     "execution_count": 42,
     "metadata": {},
     "output_type": "execute_result"
    }
   ],
   "source": [
    "#删除 imdb_id, original_title, overview, poster_path, status, title 等属性\n",
    "train_data.drop(['imdb_id'], axis=1, inplace=True)\n",
    "train_data.drop(['original_title'], axis=1, inplace=True)\n",
    "train_data.drop(['overview'], axis=1, inplace=True)\n",
    "train_data.drop(['poster_path'], axis=1, inplace=True)\n",
    "train_data.drop(['status'], axis=1, inplace=True)\n",
    "train_data.drop(['title'], axis=1, inplace=True)\n",
    "train_data.shape"
   ]
  },
  {
   "cell_type": "code",
   "execution_count": 43,
   "id": "9c0791b9",
   "metadata": {},
   "outputs": [
    {
     "data": {
      "text/plain": [
       "(500, 17)"
      ]
     },
     "execution_count": 43,
     "metadata": {},
     "output_type": "execute_result"
    }
   ],
   "source": [
    "#转化为“有/无”（1/0）属性后删除原属性（4 种）\n",
    "#belongs_to_collection, homepage, original_language, tagline\n",
    "\n",
    "#构建二值属性\n",
    "train_data['collection'] = 0\n",
    "train_data.loc[train_data['belongs_to_collection'].isnull() == False, 'collection'] = 1\n",
    "train_data['has_homepage'] = 0\n",
    "train_data.loc[train_data['homepage'].isnull() == False, 'has_homepage'] = 1\n",
    "train_data['is_en'] = 0\n",
    "train_data.loc[train_data['original_language'] == 'en', 'is_en'] = 1\n",
    "train_data['has_tagline'] = 0\n",
    "train_data.loc[train_data['tagline'].isnull() == False, 'has_tagline'] = 1\n",
    "\n",
    "#删除原有属性\n",
    "train_data.drop(['belongs_to_collection'], axis=1, inplace=True)\n",
    "train_data.drop(['homepage'], axis=1, inplace=True)\n",
    "train_data.drop(['original_language'], axis=1, inplace=True)\n",
    "train_data.drop(['tagline'], axis=1, inplace=True)\n",
    "train_data.shape"
   ]
  },
  {
   "cell_type": "code",
   "execution_count": 44,
   "id": "1f8faf9e",
   "metadata": {},
   "outputs": [
    {
     "data": {
      "text/plain": [
       "(500, 17)"
      ]
     },
     "execution_count": 44,
     "metadata": {},
     "output_type": "execute_result"
    }
   ],
   "source": [
    "#转化为计数属性并删除原属性（6 种）\n",
    "#production_companies, production_countries, spoken_languages, Keywords, cast, crew\n",
    "\n",
    "#转化为计数属性\n",
    "def change_to_count_attri(data, attri):\n",
    "    count=[]\n",
    "    for i in data[attri]:\n",
    "        if(not(pd.isnull(i))):\n",
    "            count.append(len(eval(i)))\n",
    "\n",
    "        else:\n",
    "            count.append(0)\n",
    "    attri1 = \"num_\" + attri\n",
    "    data[attri1] = count\n",
    "    data.drop([attri], axis=1, inplace=True)\n",
    "    \n",
    "\n",
    "change_to_count_attri(train_data,'production_companies')\n",
    "change_to_count_attri(train_data,'production_countries')\n",
    "change_to_count_attri(train_data,'spoken_languages')\n",
    "change_to_count_attri(train_data,'Keywords')\n",
    "change_to_count_attri(train_data,'cast')\n",
    "change_to_count_attri(train_data,'crew')\n",
    "train_data.shape"
   ]
  },
  {
   "cell_type": "code",
   "execution_count": 45,
   "id": "cac21dc9",
   "metadata": {},
   "outputs": [
    {
     "name": "stderr",
     "output_type": "stream",
     "text": [
      "C:\\Users\\26947\\AppData\\Local\\Temp\\ipykernel_6820\\3888798812.py:9: SettingWithCopyWarning: \n",
      "A value is trying to be set on a copy of a slice from a DataFrame\n",
      "\n",
      "See the caveats in the documentation: https://pandas.pydata.org/pandas-docs/stable/user_guide/indexing.html#returning-a-view-versus-a-copy\n",
      "  train_data['is_popular_genres'][i] += 1\n",
      "C:\\Users\\26947\\AppData\\Local\\Temp\\ipykernel_6820\\3888798812.py:13: SettingWithCopyWarning: \n",
      "A value is trying to be set on a copy of a slice from a DataFrame\n",
      "\n",
      "See the caveats in the documentation: https://pandas.pydata.org/pandas-docs/stable/user_guide/indexing.html#returning-a-view-versus-a-copy\n",
      "  train_data['is_popular_genres'][i] += 1\n",
      "C:\\Users\\26947\\AppData\\Local\\Temp\\ipykernel_6820\\3888798812.py:17: SettingWithCopyWarning: \n",
      "A value is trying to be set on a copy of a slice from a DataFrame\n",
      "\n",
      "See the caveats in the documentation: https://pandas.pydata.org/pandas-docs/stable/user_guide/indexing.html#returning-a-view-versus-a-copy\n",
      "  train_data['is_popular_genres'][i] += 1\n",
      "C:\\Users\\26947\\AppData\\Local\\Temp\\ipykernel_6820\\3888798812.py:15: SettingWithCopyWarning: \n",
      "A value is trying to be set on a copy of a slice from a DataFrame\n",
      "\n",
      "See the caveats in the documentation: https://pandas.pydata.org/pandas-docs/stable/user_guide/indexing.html#returning-a-view-versus-a-copy\n",
      "  train_data['is_popular_genres'][i] += 1\n",
      "C:\\Users\\26947\\AppData\\Local\\Temp\\ipykernel_6820\\3888798812.py:11: SettingWithCopyWarning: \n",
      "A value is trying to be set on a copy of a slice from a DataFrame\n",
      "\n",
      "See the caveats in the documentation: https://pandas.pydata.org/pandas-docs/stable/user_guide/indexing.html#returning-a-view-versus-a-copy\n",
      "  train_data['is_popular_genres'][i] += 1\n"
     ]
    },
    {
     "data": {
      "text/plain": [
       "(500, 17)"
      ]
     },
     "execution_count": 45,
     "metadata": {},
     "output_type": "execute_result"
    }
   ],
   "source": [
    "#genres 转化为计数属性并删除原属性\n",
    "#选取Adventure，Animation，Fantasy，Family，Action 和 Science_Fiction作为流行类型\n",
    "\n",
    "train_data['is_popular_genres'] = 0\n",
    "for i in range(len(train_data)):\n",
    "    if train_data['genres'][i] == train_data['genres'][i]:\n",
    "        for genre in eval(train_data['genres'][i]):\n",
    "            if genre['name'] == \"Adventure\":\n",
    "                train_data['is_popular_genres'][i] += 1\n",
    "            elif genre['name'] == \"Animation\":\n",
    "                train_data['is_popular_genres'][i] += 1\n",
    "            elif genre['name'] == \"Fantasy\":\n",
    "                train_data['is_popular_genres'][i] += 1\n",
    "            elif genre['name'] == \"Family\":\n",
    "                train_data['is_popular_genres'][i] += 1\n",
    "            elif genre['name'] == \"Action\":\n",
    "                train_data['is_popular_genres'][i] += 1\n",
    "            elif genre['name'] == \"Science_Fiction\":\n",
    "                train_data['is_popular_genres'][i] += 1\n",
    "            else:\n",
    "                continue\n",
    "\n",
    "\n",
    "train_data.drop(['genres'], axis=1, inplace=True)\n",
    "train_data.shape"
   ]
  },
  {
   "cell_type": "code",
   "execution_count": 46,
   "id": "1762f7ba",
   "metadata": {},
   "outputs": [
    {
     "name": "stdout",
     "output_type": "stream",
     "text": [
      "107.94115292233786\n"
     ]
    },
    {
     "data": {
      "text/plain": [
       "(500, 17)"
      ]
     },
     "execution_count": 46,
     "metadata": {},
     "output_type": "execute_result"
    }
   ],
   "source": [
    "#均值填充 runtime 缺失值和零值\n",
    "mean = 107.94115292233786\n",
    "print(mean)\n",
    "train_data['runtime'] = train_data['runtime'].fillna(mean)\n",
    "train_data['runtime'] = train_data['runtime'].replace(0, mean)\n",
    "train_data.shape"
   ]
  },
  {
   "cell_type": "code",
   "execution_count": 47,
   "id": "03398a4b",
   "metadata": {},
   "outputs": [
    {
     "data": {
      "text/plain": [
       "(500, 19)"
      ]
     },
     "execution_count": 47,
     "metadata": {},
     "output_type": "execute_result"
    }
   ],
   "source": [
    "#release_date 分为年、月、日（星期）三个属性\n",
    "\n",
    "train_data['release_date'] = pd.to_datetime(train_data['release_date'], format='%m/%d/%y')\n",
    "train_data[\"release_year\"] = pd.to_datetime(train_data[\"release_date\"]).dt.year.astype(int)\n",
    "train_data[\"release_day\"] = pd.to_datetime(train_data[\"release_date\"]).dt.dayofweek.astype(int)\n",
    "train_data[\"release_month\"] = pd.to_datetime(train_data[\"release_date\"]).dt.month.astype(int)\n",
    "train_data.drop(['release_date'], axis=1, inplace=True)\n",
    "train_data.shape"
   ]
  },
  {
   "cell_type": "code",
   "execution_count": 48,
   "id": "db157d0f",
   "metadata": {},
   "outputs": [
    {
     "data": {
      "text/html": [
       "<div>\n",
       "<style scoped>\n",
       "    .dataframe tbody tr th:only-of-type {\n",
       "        vertical-align: middle;\n",
       "    }\n",
       "\n",
       "    .dataframe tbody tr th {\n",
       "        vertical-align: top;\n",
       "    }\n",
       "\n",
       "    .dataframe thead th {\n",
       "        text-align: right;\n",
       "    }\n",
       "</style>\n",
       "<table border=\"1\" class=\"dataframe\">\n",
       "  <thead>\n",
       "    <tr style=\"text-align: right;\">\n",
       "      <th></th>\n",
       "      <th>id</th>\n",
       "      <th>budget</th>\n",
       "      <th>popularity</th>\n",
       "      <th>runtime</th>\n",
       "      <th>revenue</th>\n",
       "      <th>collection</th>\n",
       "      <th>has_homepage</th>\n",
       "      <th>is_en</th>\n",
       "      <th>has_tagline</th>\n",
       "      <th>num_production_companies</th>\n",
       "      <th>num_production_countries</th>\n",
       "      <th>num_spoken_languages</th>\n",
       "      <th>num_Keywords</th>\n",
       "      <th>num_cast</th>\n",
       "      <th>num_crew</th>\n",
       "      <th>is_popular_genres</th>\n",
       "      <th>release_year</th>\n",
       "      <th>release_day</th>\n",
       "      <th>release_month</th>\n",
       "    </tr>\n",
       "  </thead>\n",
       "  <tbody>\n",
       "    <tr>\n",
       "      <th>0</th>\n",
       "      <td>2501</td>\n",
       "      <td>25000000</td>\n",
       "      <td>5.28</td>\n",
       "      <td>107.00</td>\n",
       "      <td>19829957</td>\n",
       "      <td>0</td>\n",
       "      <td>0</td>\n",
       "      <td>1</td>\n",
       "      <td>1</td>\n",
       "      <td>2</td>\n",
       "      <td>1</td>\n",
       "      <td>1</td>\n",
       "      <td>5</td>\n",
       "      <td>14</td>\n",
       "      <td>10</td>\n",
       "      <td>0</td>\n",
       "      <td>2010</td>\n",
       "      <td>4</td>\n",
       "      <td>10</td>\n",
       "    </tr>\n",
       "    <tr>\n",
       "      <th>1</th>\n",
       "      <td>2502</td>\n",
       "      <td>0</td>\n",
       "      <td>3.72</td>\n",
       "      <td>94.00</td>\n",
       "      <td>8887603</td>\n",
       "      <td>0</td>\n",
       "      <td>0</td>\n",
       "      <td>1</td>\n",
       "      <td>1</td>\n",
       "      <td>2</td>\n",
       "      <td>1</td>\n",
       "      <td>1</td>\n",
       "      <td>7</td>\n",
       "      <td>12</td>\n",
       "      <td>2</td>\n",
       "      <td>0</td>\n",
       "      <td>2012</td>\n",
       "      <td>4</td>\n",
       "      <td>12</td>\n",
       "    </tr>\n",
       "    <tr>\n",
       "      <th>2</th>\n",
       "      <td>2503</td>\n",
       "      <td>3500000</td>\n",
       "      <td>14.57</td>\n",
       "      <td>91.00</td>\n",
       "      <td>28215918</td>\n",
       "      <td>1</td>\n",
       "      <td>1</td>\n",
       "      <td>1</td>\n",
       "      <td>1</td>\n",
       "      <td>1</td>\n",
       "      <td>1</td>\n",
       "      <td>1</td>\n",
       "      <td>4</td>\n",
       "      <td>18</td>\n",
       "      <td>5</td>\n",
       "      <td>0</td>\n",
       "      <td>1995</td>\n",
       "      <td>2</td>\n",
       "      <td>4</td>\n",
       "    </tr>\n",
       "    <tr>\n",
       "      <th>3</th>\n",
       "      <td>2504</td>\n",
       "      <td>0</td>\n",
       "      <td>11.46</td>\n",
       "      <td>95.00</td>\n",
       "      <td>49364621</td>\n",
       "      <td>1</td>\n",
       "      <td>0</td>\n",
       "      <td>1</td>\n",
       "      <td>1</td>\n",
       "      <td>1</td>\n",
       "      <td>1</td>\n",
       "      <td>1</td>\n",
       "      <td>9</td>\n",
       "      <td>20</td>\n",
       "      <td>6</td>\n",
       "      <td>1</td>\n",
       "      <td>1985</td>\n",
       "      <td>3</td>\n",
       "      <td>7</td>\n",
       "    </tr>\n",
       "    <tr>\n",
       "      <th>4</th>\n",
       "      <td>2505</td>\n",
       "      <td>0</td>\n",
       "      <td>5.07</td>\n",
       "      <td>98.00</td>\n",
       "      <td>3960327</td>\n",
       "      <td>0</td>\n",
       "      <td>0</td>\n",
       "      <td>1</td>\n",
       "      <td>1</td>\n",
       "      <td>2</td>\n",
       "      <td>0</td>\n",
       "      <td>1</td>\n",
       "      <td>7</td>\n",
       "      <td>12</td>\n",
       "      <td>4</td>\n",
       "      <td>0</td>\n",
       "      <td>1989</td>\n",
       "      <td>4</td>\n",
       "      <td>4</td>\n",
       "    </tr>\n",
       "  </tbody>\n",
       "</table>\n",
       "</div>"
      ],
      "text/plain": [
       "     id    budget  popularity  runtime   revenue  collection  has_homepage  \\\n",
       "0  2501  25000000        5.28   107.00  19829957           0             0   \n",
       "1  2502         0        3.72    94.00   8887603           0             0   \n",
       "2  2503   3500000       14.57    91.00  28215918           1             1   \n",
       "3  2504         0       11.46    95.00  49364621           1             0   \n",
       "4  2505         0        5.07    98.00   3960327           0             0   \n",
       "\n",
       "   is_en  has_tagline  num_production_companies  num_production_countries  \\\n",
       "0      1            1                         2                         1   \n",
       "1      1            1                         2                         1   \n",
       "2      1            1                         1                         1   \n",
       "3      1            1                         1                         1   \n",
       "4      1            1                         2                         0   \n",
       "\n",
       "   num_spoken_languages  num_Keywords  num_cast  num_crew  is_popular_genres  \\\n",
       "0                     1             5        14        10                  0   \n",
       "1                     1             7        12         2                  0   \n",
       "2                     1             4        18         5                  0   \n",
       "3                     1             9        20         6                  1   \n",
       "4                     1             7        12         4                  0   \n",
       "\n",
       "   release_year  release_day  release_month  \n",
       "0          2010            4             10  \n",
       "1          2012            4             12  \n",
       "2          1995            2              4  \n",
       "3          1985            3              7  \n",
       "4          1989            4              4  "
      ]
     },
     "execution_count": 48,
     "metadata": {},
     "output_type": "execute_result"
    }
   ],
   "source": [
    "train_data.head()"
   ]
  },
  {
   "cell_type": "code",
   "execution_count": 49,
   "id": "1f883fa9",
   "metadata": {},
   "outputs": [
    {
     "name": "stdout",
     "output_type": "stream",
     "text": [
      "<class 'pandas.core.frame.DataFrame'>\n",
      "RangeIndex: 500 entries, 0 to 499\n",
      "Data columns (total 19 columns):\n",
      " #   Column                    Non-Null Count  Dtype  \n",
      "---  ------                    --------------  -----  \n",
      " 0   id                        500 non-null    int64  \n",
      " 1   budget                    500 non-null    int64  \n",
      " 2   popularity                500 non-null    float64\n",
      " 3   runtime                   500 non-null    float64\n",
      " 4   revenue                   500 non-null    int64  \n",
      " 5   collection                500 non-null    int64  \n",
      " 6   has_homepage              500 non-null    int64  \n",
      " 7   is_en                     500 non-null    int64  \n",
      " 8   has_tagline               500 non-null    int64  \n",
      " 9   num_production_companies  500 non-null    int64  \n",
      " 10  num_production_countries  500 non-null    int64  \n",
      " 11  num_spoken_languages      500 non-null    int64  \n",
      " 12  num_Keywords              500 non-null    int64  \n",
      " 13  num_cast                  500 non-null    int64  \n",
      " 14  num_crew                  500 non-null    int64  \n",
      " 15  is_popular_genres         500 non-null    int64  \n",
      " 16  release_year              500 non-null    int32  \n",
      " 17  release_day               500 non-null    int32  \n",
      " 18  release_month             500 non-null    int32  \n",
      "dtypes: float64(2), int32(3), int64(14)\n",
      "memory usage: 68.5 KB\n"
     ]
    }
   ],
   "source": [
    "train_data.info()"
   ]
  },
  {
   "cell_type": "code",
   "execution_count": 50,
   "id": "ecf84954",
   "metadata": {},
   "outputs": [],
   "source": [
    "#保存处理后的数据集\n",
    "train_data.to_csv(\"bop_test_processed.csv\", index=None)"
   ]
  },
  {
   "cell_type": "code",
   "execution_count": 30,
   "id": "1156078f",
   "metadata": {},
   "outputs": [],
   "source": [
    "# ftrain_data=\"bop_train_processed.csv\"\n",
    "# train_data = pd.read_csv(ftrain_data, index_col=False, low_memory=False)\n",
    "# train_data.head()"
   ]
  }
 ],
 "metadata": {
  "kernelspec": {
   "display_name": "Python 3 (ipykernel)",
   "language": "python",
   "name": "python3"
  },
  "language_info": {
   "codemirror_mode": {
    "name": "ipython",
    "version": 3
   },
   "file_extension": ".py",
   "mimetype": "text/x-python",
   "name": "python",
   "nbconvert_exporter": "python",
   "pygments_lexer": "ipython3",
   "version": "3.9.13"
  }
 },
 "nbformat": 4,
 "nbformat_minor": 5
}
