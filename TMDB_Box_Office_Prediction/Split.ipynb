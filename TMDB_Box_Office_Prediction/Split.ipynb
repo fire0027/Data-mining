{
 "cells": [
  {
   "cell_type": "code",
   "execution_count": 1,
   "id": "7cf0bc11",
   "metadata": {},
   "outputs": [
    {
     "name": "stdout",
     "output_type": "stream",
     "text": [
      "2500\n"
     ]
    }
   ],
   "source": [
    "import pandas as pd\n",
    "data = pd.read_csv(\"processed_bop_train.csv\")\n",
    "row_num = len(data)\n",
    "print(row_num)"
   ]
  },
  {
   "cell_type": "code",
   "execution_count": 2,
   "id": "77b73ef1",
   "metadata": {},
   "outputs": [],
   "source": [
    "low_budget_data = data[data[\"budget\"] < 1000000]\n",
    "high_budget_data = data[data[\"budget\"] >= 1000000]"
   ]
  },
  {
   "cell_type": "code",
   "execution_count": 3,
   "id": "8c9cc054",
   "metadata": {},
   "outputs": [],
   "source": [
    "#保存处理后的数据集\n",
    "low_budget_data.to_csv(\"processed_low_train.csv\", index=None)\n",
    "high_budget_data.to_csv(\"processed_high_train.csv\", index=None)"
   ]
  },
  {
   "cell_type": "code",
   "execution_count": 4,
   "id": "ef2f42e0",
   "metadata": {},
   "outputs": [
    {
     "data": {
      "text/plain": [
       "(805, 19)"
      ]
     },
     "execution_count": 4,
     "metadata": {},
     "output_type": "execute_result"
    }
   ],
   "source": [
    "low_budget_data.shape"
   ]
  },
  {
   "cell_type": "code",
   "execution_count": 5,
   "id": "542ccef4",
   "metadata": {},
   "outputs": [
    {
     "data": {
      "text/plain": [
       "(1695, 19)"
      ]
     },
     "execution_count": 5,
     "metadata": {},
     "output_type": "execute_result"
    }
   ],
   "source": [
    "high_budget_data.shape"
   ]
  },
  {
   "cell_type": "code",
   "execution_count": null,
   "id": "bc4b11f8",
   "metadata": {},
   "outputs": [],
   "source": []
  },
  {
   "cell_type": "code",
   "execution_count": 6,
   "id": "c81b616f",
   "metadata": {},
   "outputs": [
    {
     "name": "stdout",
     "output_type": "stream",
     "text": [
      "500\n"
     ]
    }
   ],
   "source": [
    "data = pd.read_csv(\"processed_bop_test.csv\")\n",
    "row_num = len(data)\n",
    "print(row_num)"
   ]
  },
  {
   "cell_type": "code",
   "execution_count": 7,
   "id": "819de9eb",
   "metadata": {},
   "outputs": [],
   "source": [
    "low_budget_data = data[data[\"budget\"] < 1000000]\n",
    "high_budget_data = data[data[\"budget\"] >= 1000000]"
   ]
  },
  {
   "cell_type": "code",
   "execution_count": 8,
   "id": "0ba14072",
   "metadata": {},
   "outputs": [],
   "source": [
    "#保存处理后的数据集\n",
    "low_budget_data.to_csv(\"processed_low_test.csv\", index=None)\n",
    "high_budget_data.to_csv(\"processed_high_test.csv\", index=None)"
   ]
  },
  {
   "cell_type": "code",
   "execution_count": 9,
   "id": "a03236a7",
   "metadata": {},
   "outputs": [
    {
     "data": {
      "text/plain": [
       "(163, 19)"
      ]
     },
     "execution_count": 9,
     "metadata": {},
     "output_type": "execute_result"
    }
   ],
   "source": [
    "low_budget_data.shape"
   ]
  },
  {
   "cell_type": "code",
   "execution_count": 10,
   "id": "2e81baba",
   "metadata": {},
   "outputs": [
    {
     "data": {
      "text/plain": [
       "(337, 19)"
      ]
     },
     "execution_count": 10,
     "metadata": {},
     "output_type": "execute_result"
    }
   ],
   "source": [
    "high_budget_data.shape"
   ]
  },
  {
   "cell_type": "code",
   "execution_count": null,
   "id": "c7213a91",
   "metadata": {},
   "outputs": [],
   "source": []
  },
  {
   "cell_type": "code",
   "execution_count": null,
   "id": "efd0aa0e",
   "metadata": {},
   "outputs": [],
   "source": []
  }
 ],
 "metadata": {
  "kernelspec": {
   "display_name": "Python 3 (ipykernel)",
   "language": "python",
   "name": "python3"
  },
  "language_info": {
   "codemirror_mode": {
    "name": "ipython",
    "version": 3
   },
   "file_extension": ".py",
   "mimetype": "text/x-python",
   "name": "python",
   "nbconvert_exporter": "python",
   "pygments_lexer": "ipython3",
   "version": "3.9.13"
  }
 },
 "nbformat": 4,
 "nbformat_minor": 5
}
