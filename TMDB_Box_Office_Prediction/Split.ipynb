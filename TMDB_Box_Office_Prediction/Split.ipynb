{
 "cells": [
  {
   "cell_type": "code",
   "execution_count": 9,
   "id": "7cf0bc11",
   "metadata": {},
   "outputs": [
    {
     "name": "stdout",
     "output_type": "stream",
     "text": [
      "500\n"
     ]
    }
   ],
   "source": [
    "import pandas as pd\n",
    "data = pd.read_csv(\"bop_test_processed.csv\")\n",
    "row_num = len(data)\n",
    "print(row_num)"
   ]
  },
  {
   "cell_type": "code",
   "execution_count": 10,
   "id": "77b73ef1",
   "metadata": {},
   "outputs": [],
   "source": [
    "low_budget_data = data[data[\"budget\"] < 1000000]\n",
    "high_budget_data = data[data[\"budget\"] >= 1000000]"
   ]
  },
  {
   "cell_type": "code",
   "execution_count": 11,
   "id": "8c9cc054",
   "metadata": {},
   "outputs": [],
   "source": [
    "#保存处理后的数据集\n",
    "low_budget_data.to_csv(\"low_test_processed.csv\", index=None)\n",
    "high_budget_data.to_csv(\"high_test_processed.csv\", index=None)"
   ]
  },
  {
   "cell_type": "code",
   "execution_count": 12,
   "id": "ef2f42e0",
   "metadata": {},
   "outputs": [
    {
     "data": {
      "text/plain": [
       "(163, 19)"
      ]
     },
     "execution_count": 12,
     "metadata": {},
     "output_type": "execute_result"
    }
   ],
   "source": [
    "low_budget_data.shape"
   ]
  },
  {
   "cell_type": "code",
   "execution_count": 13,
   "id": "542ccef4",
   "metadata": {},
   "outputs": [
    {
     "data": {
      "text/plain": [
       "(337, 19)"
      ]
     },
     "execution_count": 13,
     "metadata": {},
     "output_type": "execute_result"
    }
   ],
   "source": [
    "high_budget_data.shape"
   ]
  },
  {
   "cell_type": "code",
   "execution_count": null,
   "id": "c7213a91",
   "metadata": {},
   "outputs": [],
   "source": []
  },
  {
   "cell_type": "code",
   "execution_count": null,
   "id": "efd0aa0e",
   "metadata": {},
   "outputs": [],
   "source": []
  }
 ],
 "metadata": {
  "kernelspec": {
   "display_name": "Python 3 (ipykernel)",
   "language": "python",
   "name": "python3"
  },
  "language_info": {
   "codemirror_mode": {
    "name": "ipython",
    "version": 3
   },
   "file_extension": ".py",
   "mimetype": "text/x-python",
   "name": "python",
   "nbconvert_exporter": "python",
   "pygments_lexer": "ipython3",
   "version": "3.9.13"
  }
 },
 "nbformat": 4,
 "nbformat_minor": 5
}
